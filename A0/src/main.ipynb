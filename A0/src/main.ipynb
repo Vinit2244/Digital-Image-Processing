{
 "cells": [
  {
   "cell_type": "markdown",
   "id": "ab294fb5-8b28-405b-8e45-3f5f95b9cf98",
   "metadata": {},
   "source": [
    "# Installing dependencies"
   ]
  },
  {
   "cell_type": "code",
   "execution_count": 24,
   "id": "bff23ce2-ce75-45de-b104-8275f406091e",
   "metadata": {},
   "outputs": [
    {
     "name": "stdout",
     "output_type": "stream",
     "text": [
      "Requirement already satisfied: opencv-python in /Library/Frameworks/Python.framework/Versions/3.12/lib/python3.12/site-packages (4.10.0.84)\n",
      "Requirement already satisfied: numpy>=1.21.2 in /Library/Frameworks/Python.framework/Versions/3.12/lib/python3.12/site-packages (from opencv-python) (1.26.4)\n",
      "\n",
      "\u001b[1m[\u001b[0m\u001b[34;49mnotice\u001b[0m\u001b[1;39;49m]\u001b[0m\u001b[39;49m A new release of pip is available: \u001b[0m\u001b[31;49m24.0\u001b[0m\u001b[39;49m -> \u001b[0m\u001b[32;49m24.2\u001b[0m\n",
      "\u001b[1m[\u001b[0m\u001b[34;49mnotice\u001b[0m\u001b[1;39;49m]\u001b[0m\u001b[39;49m To update, run: \u001b[0m\u001b[32;49mpip3 install --upgrade pip\u001b[0m\n",
      "Note: you may need to restart the kernel to use updated packages.\n",
      "Requirement already satisfied: numpy in /Library/Frameworks/Python.framework/Versions/3.12/lib/python3.12/site-packages (1.26.4)\n",
      "\n",
      "\u001b[1m[\u001b[0m\u001b[34;49mnotice\u001b[0m\u001b[1;39;49m]\u001b[0m\u001b[39;49m A new release of pip is available: \u001b[0m\u001b[31;49m24.0\u001b[0m\u001b[39;49m -> \u001b[0m\u001b[32;49m24.2\u001b[0m\n",
      "\u001b[1m[\u001b[0m\u001b[34;49mnotice\u001b[0m\u001b[1;39;49m]\u001b[0m\u001b[39;49m To update, run: \u001b[0m\u001b[32;49mpip3 install --upgrade pip\u001b[0m\n",
      "Note: you may need to restart the kernel to use updated packages.\n",
      "Requirement already satisfied: matplotlib in /Library/Frameworks/Python.framework/Versions/3.12/lib/python3.12/site-packages (3.8.3)\n",
      "Requirement already satisfied: contourpy>=1.0.1 in /Library/Frameworks/Python.framework/Versions/3.12/lib/python3.12/site-packages (from matplotlib) (1.2.0)\n",
      "Requirement already satisfied: cycler>=0.10 in /Library/Frameworks/Python.framework/Versions/3.12/lib/python3.12/site-packages (from matplotlib) (0.12.1)\n",
      "Requirement already satisfied: fonttools>=4.22.0 in /Library/Frameworks/Python.framework/Versions/3.12/lib/python3.12/site-packages (from matplotlib) (4.49.0)\n",
      "Requirement already satisfied: kiwisolver>=1.3.1 in /Library/Frameworks/Python.framework/Versions/3.12/lib/python3.12/site-packages (from matplotlib) (1.4.5)\n",
      "Requirement already satisfied: numpy<2,>=1.21 in /Library/Frameworks/Python.framework/Versions/3.12/lib/python3.12/site-packages (from matplotlib) (1.26.4)\n",
      "Requirement already satisfied: packaging>=20.0 in /Library/Frameworks/Python.framework/Versions/3.12/lib/python3.12/site-packages (from matplotlib) (23.2)\n",
      "Requirement already satisfied: pillow>=8 in /Library/Frameworks/Python.framework/Versions/3.12/lib/python3.12/site-packages (from matplotlib) (10.2.0)\n",
      "Requirement already satisfied: pyparsing>=2.3.1 in /Library/Frameworks/Python.framework/Versions/3.12/lib/python3.12/site-packages (from matplotlib) (3.1.1)\n",
      "Requirement already satisfied: python-dateutil>=2.7 in /Library/Frameworks/Python.framework/Versions/3.12/lib/python3.12/site-packages (from matplotlib) (2.8.2)\n",
      "Requirement already satisfied: six>=1.5 in /Library/Frameworks/Python.framework/Versions/3.12/lib/python3.12/site-packages (from python-dateutil>=2.7->matplotlib) (1.16.0)\n",
      "\n",
      "\u001b[1m[\u001b[0m\u001b[34;49mnotice\u001b[0m\u001b[1;39;49m]\u001b[0m\u001b[39;49m A new release of pip is available: \u001b[0m\u001b[31;49m24.0\u001b[0m\u001b[39;49m -> \u001b[0m\u001b[32;49m24.2\u001b[0m\n",
      "\u001b[1m[\u001b[0m\u001b[34;49mnotice\u001b[0m\u001b[1;39;49m]\u001b[0m\u001b[39;49m To update, run: \u001b[0m\u001b[32;49mpip3 install --upgrade pip\u001b[0m\n",
      "Note: you may need to restart the kernel to use updated packages.\n"
     ]
    }
   ],
   "source": [
    "%pip install opencv-python\n",
    "%pip install numpy\n",
    "%pip install matplotlib"
   ]
  },
  {
   "cell_type": "markdown",
   "id": "e018313a-048c-46b0-bcb8-99f8001fe11b",
   "metadata": {},
   "source": [
    "# Imports and Variables"
   ]
  },
  {
   "cell_type": "code",
   "execution_count": 25,
   "id": "d3fd07e9-78b2-4889-b54a-a5c77906f6c2",
   "metadata": {},
   "outputs": [],
   "source": [
    "import cv2                      # For reading and writing of image\n",
    "import numpy as np              # Just for converting to and from numpy arrays to python lists\n",
    "import matplotlib.pyplot as plt # Just for plotting the histograms\n",
    "\n",
    "VIRDIS_COLOR_PALLETE = [[253, 231, 37], [94, 201, 98], [33, 145, 140], [59, 82, 139], [68, 1, 84]]\n",
    "\n",
    "color_image_path = \"../media/sample_image_color.jpg\"\n",
    "grayscale_image_path = \"../media/sample_image_grayscale.jpg\"\n",
    "low_contrast_image_path = \"../media/sample_image_low_contrast.jpg\""
   ]
  },
  {
   "cell_type": "markdown",
   "id": "2734f2bd",
   "metadata": {},
   "source": [
    "# Helper Functions"
   ]
  },
  {
   "cell_type": "code",
   "execution_count": 26,
   "id": "aafc67e4",
   "metadata": {},
   "outputs": [],
   "source": [
    "def is_grayscale(image_arr):\n",
    "    if (type(image_arr[0][0]) == int):\n",
    "        return True\n",
    "    \n",
    "def find_num_of_channels(image_arr):\n",
    "    if (type(image_arr[0][0]) == int):\n",
    "        return 1\n",
    "    else:\n",
    "        return len(image_arr[0][0])\n",
    "    \n",
    "# Only for grayscale images\n",
    "def plot_histogram(img_arr, title, x_label, y_label):\n",
    "    grayscale_image = is_grayscale(img_arr)\n",
    "    if not grayscale_image:\n",
    "        print(\"Image is not grayscale\")\n",
    "        return\n",
    "    freq_arr = [0 for _ in range(256)]\n",
    "    for row in img_arr:\n",
    "        for col in row:\n",
    "            freq_arr[col] += 1\n",
    "    plt.bar([i for i in range(256)], freq_arr)\n",
    "    plt.title(title)\n",
    "    plt.xlabel(x_label)\n",
    "    plt.ylabel(y_label)\n",
    "    plt.show()\n",
    "    \n",
    "def make_same_dim(image_arr_1, image_arr_2):\n",
    "    img_1_height = len(image_arr_1)\n",
    "    img_1_width = len(image_arr_1[0])\n",
    "    img_2_height = len(image_arr_2)\n",
    "    img_2_width = len(image_arr_2[0])\n",
    "    final_height = final_width = 0\n",
    "    if img_1_height > img_2_height:\n",
    "        final_height = img_2_height\n",
    "    else:\n",
    "        final_height = img_1_height\n",
    "    \n",
    "    if img_1_width > img_2_width:\n",
    "        final_width = img_2_width\n",
    "    else:\n",
    "        final_width = img_1_width\n",
    "\n",
    "    new_image_arr_1 = list()\n",
    "    new_image_arr_2 = list()\n",
    "    for row_idx in range(final_height):\n",
    "        new_image_arr_1.append(list())\n",
    "        new_image_arr_2.append(list())\n",
    "        for col_idx in range(final_width):\n",
    "            new_image_arr_1[row_idx].append(image_arr_1[row_idx][col_idx])\n",
    "            new_image_arr_2[row_idx].append(image_arr_2[row_idx][col_idx])\n",
    "    return new_image_arr_1, new_image_arr_2"
   ]
  },
  {
   "cell_type": "markdown",
   "id": "200578fc-ad95-4272-b93b-ad93863d45e4",
   "metadata": {},
   "source": [
    "# Read Image in a Numpy array"
   ]
  },
  {
   "cell_type": "code",
   "execution_count": 27,
   "id": "2382841b-4913-4d31-a23a-d934a7195fa0",
   "metadata": {},
   "outputs": [
    {
     "name": "stdout",
     "output_type": "stream",
     "text": [
      "Color image dimension: 375 563\n",
      "Grayscale image dimension: 401 602\n",
      "Low contrast image dimension: 360 484\n",
      "Read images into arrays.\n"
     ]
    }
   ],
   "source": [
    "def convert_bgr_to_rgb(bgr_img):\n",
    "    rgb_img = list()\n",
    "    for row in bgr_img:\n",
    "        rgb_img.append(list())\n",
    "        for pixel in row:\n",
    "            rgb_img[-1].append(pixel[::-1])\n",
    "    return rgb_img\n",
    "\n",
    "def read_image_in_array(image_path):\n",
    "    bgr_img = cv2.imread(image_path).tolist()\n",
    "    rgb_img = convert_bgr_to_rgb(bgr_img)\n",
    "    return rgb_img\n",
    "\n",
    "def read_grayscale_image_in_array(image_path):\n",
    "    grayscale_img = cv2.imread(image_path, cv2.IMREAD_GRAYSCALE).tolist()\n",
    "    return grayscale_img\n",
    "\n",
    "color_img_arr = read_image_in_array(color_image_path)\n",
    "print(\"Color image dimension:\", len(color_img_arr), len(color_img_arr[0]))\n",
    "grayscale_img_arr = read_grayscale_image_in_array(grayscale_image_path)\n",
    "print(\"Grayscale image dimension:\", len(grayscale_img_arr), len(grayscale_img_arr[0]))\n",
    "low_contrast_img_arr = read_image_in_array(low_contrast_image_path)\n",
    "print(\"Low contrast image dimension:\", len(low_contrast_img_arr), len(low_contrast_img_arr[0]))\n",
    "\n",
    "print(\"Read images into arrays.\")"
   ]
  },
  {
   "cell_type": "markdown",
   "id": "1a514566-99d6-4e63-8422-4257bfe695e1",
   "metadata": {},
   "source": [
    "# Write a Numpy array into an image file"
   ]
  },
  {
   "cell_type": "code",
   "execution_count": 28,
   "id": "3450fe3e-18c4-4020-91c8-ed77648f6f17",
   "metadata": {},
   "outputs": [],
   "source": [
    "def convert_rgb_to_bgr(img_array):\n",
    "    return convert_bgr_to_rgb(img_array)\n",
    "\n",
    "def write_array_to_image(img_array, output_file_path):\n",
    "    grayscale_image = is_grayscale(img_array)\n",
    "    if not grayscale_image:\n",
    "        brg_img = convert_rgb_to_bgr(img_array)\n",
    "        cv2.imwrite(output_file_path, np.array(brg_img).astype(np.uint8))\n",
    "    else:\n",
    "        cv2.imwrite(output_file_path, np.array(img_array).astype(np.uint8))"
   ]
  },
  {
   "cell_type": "markdown",
   "id": "118ae282-6a72-47a1-b83f-b5bbeb2f40ef",
   "metadata": {},
   "source": [
    "# Changing Brightness of image"
   ]
  },
  {
   "cell_type": "code",
   "execution_count": 29,
   "id": "35362613-1f82-4378-a5c6-c89ec09f9e0b",
   "metadata": {},
   "outputs": [
    {
     "name": "stdout",
     "output_type": "stream",
     "text": [
      "Changed the brightness of Image 1.\n"
     ]
    }
   ],
   "source": [
    "def change_brightness(img_arr, beta):\n",
    "    grayscale_image = is_grayscale(img_arr)\n",
    "    new_img_arr = list()\n",
    "    if grayscale_image:\n",
    "        for row in img_arr:\n",
    "            new_img_arr.append([max(0, min(pixel + beta, 255)) for pixel in row])\n",
    "    else:\n",
    "        for row in img_arr:\n",
    "            new_img_arr.append(list())\n",
    "            for pixel in row:\n",
    "                new_img_arr[-1].append([max(0, min(channel + beta, 255)) for channel in pixel])\n",
    "    return new_img_arr\n",
    "\n",
    "brighter_img_arr = change_brightness(color_img_arr, 30)\n",
    "print(\"Changed the brightness of Image 1.\")\n",
    "write_array_to_image(brighter_img_arr, \"../media/output_brightness.jpg\")"
   ]
  },
  {
   "cell_type": "markdown",
   "id": "df315ea6",
   "metadata": {},
   "source": [
    "# Changing contrast of an image"
   ]
  },
  {
   "cell_type": "code",
   "execution_count": 30,
   "id": "3e931f8a",
   "metadata": {},
   "outputs": [
    {
     "name": "stdout",
     "output_type": "stream",
     "text": [
      "Changed the contrast of Image 1.\n",
      "Stretched the contrast of Image 1.\n"
     ]
    },
    {
     "data": {
      "image/png": "[encoded data removed]",
      "text/plain": [
       "<Figure size 640x480 with 1 Axes>"
      ]
     },
     "metadata": {},
     "output_type": "display_data"
    },
    {
     "data": {
      "image/png": "[encoded data removed]",
      "text/plain": [
       "<Figure size 640x480 with 1 Axes>"
      ]
     },
     "metadata": {},
     "output_type": "display_data"
    },
    {
     "name": "stdout",
     "output_type": "stream",
     "text": [
      "Histogram Equalised of Image 1.\n"
     ]
    }
   ],
   "source": [
    "def change_contrast(img_arr, alpha):\n",
    "    grayscale_image = is_grayscale(img_arr)\n",
    "    new_img_arr = list()\n",
    "    if grayscale_image:\n",
    "        for row in img_arr:\n",
    "            new_img_arr.append([int(max(0, min(alpha * (pixel - 128) + 128, 255))) for pixel in row])\n",
    "    else:\n",
    "        for row in img_arr:\n",
    "            new_img_arr.append(list())\n",
    "            for pixel in row:\n",
    "                new_img_arr[-1].append([max(0, min(alpha * (channel - 128) + 128, 255)) for channel in pixel])\n",
    "    return new_img_arr\n",
    "\n",
    "def stretch_contrast(img_arr):\n",
    "    grayscale_image = is_grayscale(img_arr)\n",
    "    new_img_arr = list()\n",
    "    a_min = 0\n",
    "    a_max = 255\n",
    "    if grayscale_image:\n",
    "        a_low = 255\n",
    "        a_high = 0\n",
    "        for row in img_arr:\n",
    "            for pixel in row:\n",
    "                a_low = min(a_low, pixel)\n",
    "                a_high = max(a_high, pixel)\n",
    "        \n",
    "        for row in img_arr:\n",
    "            new_img_arr.append([int((pixel - a_low) * (a_max - a_min) / (a_high - a_low) + a_min) for pixel in row])\n",
    "\n",
    "    else:\n",
    "        n_channels = find_num_of_channels(img_arr)\n",
    "        a_low_arr = [255 for _ in range(n_channels)]\n",
    "        a_high_arr = [0 for _ in range(n_channels)]\n",
    "        # Calulating the lowest and highest pixel values for each channel\n",
    "        for row in img_arr:\n",
    "            for pixel in row:\n",
    "                for channel_idx, channel in enumerate(pixel):\n",
    "                    a_low_arr[channel_idx] = min(a_low_arr[channel_idx], channel)\n",
    "                    a_high_arr[channel_idx] = max(a_high_arr[channel_idx], channel)\n",
    "        \n",
    "        # Stretching the contrast\n",
    "        for row in img_arr:\n",
    "            new_img_arr.append(list())\n",
    "            for pixel in row:\n",
    "                new_pixel = list()\n",
    "                for channel_idx, channel in enumerate(pixel):\n",
    "                    new_pixel.append(int((channel - a_low_arr[channel_idx]) * (a_max - a_min) / (a_high_arr[channel_idx] - a_low_arr[channel_idx]) + a_min))\n",
    "                new_img_arr[-1].append(new_pixel)\n",
    "    \n",
    "    return new_img_arr\n",
    "\n",
    "# Only for grayscale images\n",
    "def equalise_histogram(img_arr):\n",
    "    is_grayscale_image = is_grayscale(img_arr)\n",
    "    if not is_grayscale_image:\n",
    "        print(\"The image is not grayscale.\")\n",
    "        return\n",
    "    img_height = len(img_arr)\n",
    "    img_width = len(img_arr[0])\n",
    "    total_pixels = img_height * img_width\n",
    "    freq_arr = [0 for _ in range(256)]\n",
    "    for row in img_arr:\n",
    "        for pixel in row:\n",
    "            freq_arr[pixel] += 1\n",
    "    \n",
    "    # Plotting Histogram before equalisation\n",
    "    plot_histogram(img_arr, \"Histogram before Equalisation\", \"Pixel Intensity\", \"Frequency\")\n",
    "\n",
    "    prob_arr = [float(freq) / total_pixels for freq in freq_arr]\n",
    "    cumulative_prob_arr = list()\n",
    "    cumulative_prob_arr.append(prob_arr[0])\n",
    "    for i in range(1, 256):\n",
    "        cumulative_prob_arr.append(cumulative_prob_arr[-1] + prob_arr[i])\n",
    "    new_img_arr = list()\n",
    "    for row in img_arr:\n",
    "        new_img_arr.append(list())\n",
    "        for pixel in row:\n",
    "            new_img_arr[-1].append(int(255 * cumulative_prob_arr[pixel]))\n",
    "    \n",
    "    # Plotting Histogram after equalisation\n",
    "    plot_histogram(new_img_arr, \"Histogram after Equalisation\", \"Pixel Intensity\", \"Frequency\")\n",
    "\n",
    "    return new_img_arr\n",
    "\n",
    "low_contrast_grayscale_image_path = \"../media/sample_image_grayscale_low_contrast.jpg\"\n",
    "low_contrast_grayscale_img_arr = read_grayscale_image_in_array(low_contrast_grayscale_image_path)\n",
    "\n",
    "contrasted_img_arr = change_contrast(low_contrast_grayscale_img_arr, 1.5)\n",
    "print(\"Changed the contrast of Image 1.\")\n",
    "write_array_to_image(contrasted_img_arr, \"../media/output_contrast.jpg\")\n",
    "\n",
    "stretched_img_arr = stretch_contrast(low_contrast_grayscale_img_arr)\n",
    "print(\"Stretched the contrast of Image 1.\")\n",
    "write_array_to_image(stretched_img_arr, \"../media/output_stretched.jpg\")\n",
    "\n",
    "histogram_equalised_img_arr = equalise_histogram(low_contrast_grayscale_img_arr)\n",
    "print(\"Histogram Equalised of Image 1.\")\n",
    "write_array_to_image(histogram_equalised_img_arr, \"../media/output_histogram_equalised.jpg\")"
   ]
  },
  {
   "cell_type": "markdown",
   "id": "61ff142b",
   "metadata": {},
   "source": [
    "# Changing Image to Grayscale"
   ]
  },
  {
   "cell_type": "code",
   "execution_count": 31,
   "id": "e652eac2",
   "metadata": {},
   "outputs": [
    {
     "name": "stdout",
     "output_type": "stream",
     "text": [
      "Created Grayscale Images.\n"
     ]
    }
   ],
   "source": [
    "# Averaging out method\n",
    "def convert_to_grayscale_m1(img_arr):\n",
    "    new_img_arr = list()\n",
    "    for row in img_arr:\n",
    "        new_img_arr.append(list())\n",
    "        for pixel in row:\n",
    "            gray_val = int(sum(pixel) / len(pixel))\n",
    "            new_img_arr[-1].append(gray_val)\n",
    "    return new_img_arr\n",
    "\n",
    "# Weighted Average method\n",
    "def convert_to_grayscale_m2(img_arr, alpha, beta, gamma):\n",
    "    new_img_arr = list()\n",
    "    for row in img_arr:\n",
    "        new_img_arr.append(list())\n",
    "        for pixel in row:\n",
    "            gray_val = int(alpha * pixel[0] + beta * pixel[1] + gamma * pixel[2])\n",
    "            new_img_arr[-1].append(gray_val)\n",
    "    return new_img_arr\n",
    "\n",
    "# Desaturation Mehthod\n",
    "def convert_to_grayscale_m3(img_arr):\n",
    "    new_img_arr = list()\n",
    "    for row in img_arr:\n",
    "        new_img_arr.append(list())\n",
    "        for pixel in row:\n",
    "            gray_val = int((max(pixel) + min(pixel)) / 2)\n",
    "            new_img_arr[-1].append(gray_val)\n",
    "    return new_img_arr\n",
    "\n",
    "# Single Channel Method\n",
    "def convert_to_grayscale_m4(img_arr, channel_idx):\n",
    "    new_img_arr = list()\n",
    "    for row in img_arr:\n",
    "        new_img_arr.append(list())\n",
    "        for pixel in row:\n",
    "            new_img_arr[-1].append(pixel[channel_idx])\n",
    "    return new_img_arr\n",
    "\n",
    "# Decomposition Method\n",
    "def convert_to_grayscale_m5(img_arr, max_or_min):\n",
    "    new_img_arr = list()\n",
    "    for row in img_arr:\n",
    "        new_img_arr.append(list())\n",
    "        for pixel in row:\n",
    "            if max_or_min == \"max\":\n",
    "                gray_val = max(pixel)\n",
    "            else:\n",
    "                gray_val = min(pixel)\n",
    "            new_img_arr[-1].append(gray_val)\n",
    "    return new_img_arr\n",
    "\n",
    "converted_grayscale_img_arr_m1 = convert_to_grayscale_m1(color_img_arr)\n",
    "converted_grayscale_img_arr_m2 = convert_to_grayscale_m2(color_img_arr, 0.299, 0.587, 0.114)\n",
    "converted_grayscale_img_arr_m3 = convert_to_grayscale_m3(color_img_arr)\n",
    "converted_grayscale_img_arr_m4 = convert_to_grayscale_m4(color_img_arr, 0)\n",
    "converted_grayscale_img_arr_m5 = convert_to_grayscale_m5(color_img_arr, \"max\")\n",
    "print(\"Created Grayscale Images.\")\n",
    "write_array_to_image(converted_grayscale_img_arr_m1, \"../media/output_grayscale_m1.jpg\")\n",
    "write_array_to_image(converted_grayscale_img_arr_m2, \"../media/output_grayscale_m2.jpg\")\n",
    "write_array_to_image(converted_grayscale_img_arr_m3, \"../media/output_grayscale_m3.jpg\")\n",
    "write_array_to_image(converted_grayscale_img_arr_m4, \"../media/output_grayscale_m4.jpg\")\n",
    "write_array_to_image(converted_grayscale_img_arr_m5, \"../media/output_grayscale_m5.jpg\")"
   ]
  },
  {
   "cell_type": "markdown",
   "id": "d17356dd",
   "metadata": {},
   "source": [
    "# Grayscale image to color using pseudo color mapping"
   ]
  },
  {
   "cell_type": "code",
   "execution_count": 40,
   "id": "6c23f655",
   "metadata": {},
   "outputs": [
    {
     "name": "stdout",
     "output_type": "stream",
     "text": [
      "Converted Image 2 to pseudo color.\n"
     ]
    }
   ],
   "source": [
    "def get_color_map2(list_of_colors, n_divisons = 255):\n",
    "    n_colors = len(list_of_colors)\n",
    "    n_channels = len(list_of_colors[0])\n",
    "    divs_per_color = n_divisons // (n_colors - 1)\n",
    "    color_map = [list() for _ in range(n_channels)]\n",
    "    for i in range(n_colors - 1):\n",
    "        start_color = list_of_colors[i]\n",
    "        end_color = list_of_colors[i + 1]\n",
    "        for channel in range(len(start_color)):\n",
    "            abs_diff = abs(end_color[channel] - start_color[channel])\n",
    "            if end_color[channel] > start_color[channel]:\n",
    "                color_map[channel].extend([int(start_color[channel] + j * abs_diff / divs_per_color) for j in range(divs_per_color + 1)])\n",
    "            else:\n",
    "                color_map[channel].extend([int(start_color[channel] - j * abs_diff / divs_per_color) for j in range(divs_per_color + 1)])\n",
    "    return color_map\n",
    "\n",
    "def get_color(val, color_map = None):\n",
    "    if color_map is None:\n",
    "        \"\"\" Method 1 \"\"\"\n",
    "        normalised_val = float(val) / 255\n",
    "        # Defining Color map for RGB\n",
    "        slope = [2, 2, 2] # For RGB\n",
    "        # At y = 0\n",
    "        x_intercept_0 = [0, 0.25, 0.5] # For RGB\n",
    "        # At y = 1\n",
    "        x_intercept_1 = [0.5, 0.75, 1] # For RGB\n",
    "        # y intercept\n",
    "        y_intercept = [0, -0.5, -1] # For RGB\n",
    "        color = list()\n",
    "        # Calculating the color\n",
    "        for i in range(3):\n",
    "            if normalised_val < x_intercept_0[i]:\n",
    "                color.append(0)\n",
    "            elif normalised_val < x_intercept_1[i]:\n",
    "                # Without considering y-intercept\n",
    "                color.append(int(slope[i] * (normalised_val - x_intercept_0[i]) * 255))\n",
    "                # With considering y-intercept\n",
    "                # color.append(int((slope[i] * (normalised_val - x_intercept_0[i]) - y_intercept[i]) * 255))\n",
    "            else:\n",
    "                color.append(255)\n",
    "        return color\n",
    "    else:\n",
    "        \"\"\" Method 2 \"\"\"\n",
    "        color = list()\n",
    "        for i in range(3):\n",
    "            color.append(color_map[i][val])\n",
    "        return color\n",
    "\n",
    "def convert_grayscale_to_color(img_arr):\n",
    "    new_img_arr = list()\n",
    "    color_map = get_color_map2(VIRDIS_COLOR_PALLETE)\n",
    "    for row in img_arr:\n",
    "        new_img_arr.append(list())\n",
    "        for pixel in row:\n",
    "            new_img_arr[-1].append(get_color(pixel, color_map))\n",
    "    return new_img_arr\n",
    "\n",
    "pseudo_colored_img_arr = convert_grayscale_to_color(grayscale_img_arr)\n",
    "print(\"Converted Image 2 to pseudo color.\")\n",
    "write_array_to_image(pseudo_colored_img_arr, \"../media/output_pseudo_color.jpg\")"
   ]
  },
  {
   "cell_type": "markdown",
   "id": "1c7ae4f6",
   "metadata": {},
   "source": [
    "# Replace Green Screen with background"
   ]
  },
  {
   "cell_type": "code",
   "execution_count": 33,
   "id": "b417bd16",
   "metadata": {},
   "outputs": [
    {
     "name": "stdout",
     "output_type": "stream",
     "text": [
      "Replaced green screen with background.\n"
     ]
    }
   ],
   "source": [
    "def replace_green_screen_with_background(green_screen_img_arr, bg_img_arr):\n",
    "    green_screen_img_arr, bg_img_arr = make_same_dim(green_screen_img_arr, bg_img_arr)\n",
    "    final_img_arr = list()\n",
    "    green_threshold = 200\n",
    "    diff_threshold = 50\n",
    "    for row_idx, row in enumerate(green_screen_img_arr):\n",
    "        final_img_arr.append(list())\n",
    "        for pixel_idx, pixel in enumerate(row):\n",
    "            if pixel[1] > green_threshold and abs(pixel[1] - pixel[0]) > diff_threshold and abs(pixel[1] - pixel[2]) > diff_threshold:\n",
    "                final_img_arr[-1].append(bg_img_arr[row_idx][pixel_idx])\n",
    "            else:\n",
    "                final_img_arr[-1].append(pixel)\n",
    "    return final_img_arr\n",
    "\n",
    "green_screen_img_arr = read_image_in_array(\"../media/sample_image_green_screen.jpg\")\n",
    "bg_img_arr = read_image_in_array(\"../media/sample_image_background.jpg\")\n",
    "final_img_arr = replace_green_screen_with_background(green_screen_img_arr, bg_img_arr)\n",
    "print(\"Replaced green screen with background.\")\n",
    "write_array_to_image(final_img_arr, \"../media/output_green_screen.jpg\")"
   ]
  },
  {
   "cell_type": "markdown",
   "id": "28b3ec4f",
   "metadata": {},
   "source": [
    "# Reading and Writing a video file"
   ]
  },
  {
   "cell_type": "code",
   "execution_count": 34,
   "id": "8f39ef9a",
   "metadata": {},
   "outputs": [
    {
     "name": "stdout",
     "output_type": "stream",
     "text": [
      "Read the video in array.\n",
      "(31, 240, 320, 3)\n",
      "Wrote the enhanced video to output_video.mp4\n"
     ]
    }
   ],
   "source": [
    "def read_video_in_array(video_path):\n",
    "    cap = cv2.VideoCapture(video_path)\n",
    "    video_arr = list()\n",
    "    while cap.isOpened():\n",
    "        ret, frame = cap.read()\n",
    "        if not ret:\n",
    "            break\n",
    "        video_arr.append(frame.tolist())\n",
    "    cap.release()\n",
    "    return video_arr\n",
    "\n",
    "video_path = \"../media/sample_video.mp4\"\n",
    "video_arr = read_video_in_array(video_path)\n",
    "print(\"Read the video in array.\")\n",
    "\n",
    "print(np.array(video_arr).shape)\n",
    "\n",
    "enhanced_video_arr = list()\n",
    "for frame in video_arr:\n",
    "    enhanced_video_arr.append(change_brightness(frame, 100))\n",
    "\n",
    "def write_array_to_video(video_arr, output_file_path):\n",
    "    fourcc = cv2.VideoWriter_fourcc(*'mp4v')\n",
    "    height, width = len(video_arr[0]), len(video_arr[0][0])\n",
    "    out = cv2.VideoWriter(output_file_path, fourcc, 20.0, (width, height))\n",
    "\n",
    "    for frame in video_arr:\n",
    "        out.write(np.array(frame).astype(np.uint8))\n",
    "    out.release()\n",
    "\n",
    "output_file_path = '../media/output_video.mp4'\n",
    "write_array_to_video(enhanced_video_arr, output_file_path)\n",
    "print(\"Wrote the enhanced video to output_video.mp4\")"
   ]
  },
  {
   "cell_type": "markdown",
   "id": "f2ce9bd7",
   "metadata": {},
   "source": [
    "# Transition Video"
   ]
  },
  {
   "cell_type": "code",
   "execution_count": 35,
   "id": "c3ede328",
   "metadata": {},
   "outputs": [
    {
     "name": "stdout",
     "output_type": "stream",
     "text": [
      "Created the fade transition video.\n",
      "Created the slide transition video.\n"
     ]
    }
   ],
   "source": [
    "def create_transition_video(start_img_arr, end_img_arr, n_frames, transition_type):\n",
    "    start_img_arr, end_img_arr = make_same_dim(start_img_arr, end_img_arr)\n",
    "    transition_video_arr = list()\n",
    "    if transition_type == \"fade\":\n",
    "        for frame_idx in range(n_frames):\n",
    "            alpha = float(frame_idx) / n_frames\n",
    "            beta = 1 - alpha\n",
    "            transition_frame = list()\n",
    "            for row_idx in range(len(start_img_arr)):\n",
    "                transition_frame.append(list())\n",
    "                for pixel_idx in range(len(start_img_arr[0])):\n",
    "                    start_pixel = start_img_arr[row_idx][pixel_idx]\n",
    "                    end_pixel = end_img_arr[row_idx][pixel_idx]\n",
    "                    transition_frame[-1].append([int(start_pixel[channel] * beta + end_pixel[channel] * alpha) for channel in range(len(start_pixel))])\n",
    "            transition_video_arr.append(transition_frame)\n",
    "    if transition_type == \"slide\":\n",
    "        for frame_idx in range(n_frames):\n",
    "            transition_frame = list()\n",
    "            for row_idx in range(len(start_img_arr)):\n",
    "                transition_frame.append(list())\n",
    "                for pixel_idx in range(len(start_img_arr[0])):\n",
    "                    if pixel_idx < 20 * frame_idx:\n",
    "                        transition_frame[-1].append(start_img_arr[row_idx][pixel_idx])\n",
    "                    else:\n",
    "                        transition_frame[-1].append(end_img_arr[row_idx][pixel_idx])\n",
    "            transition_video_arr.append(transition_frame)\n",
    "    return transition_video_arr\n",
    "\n",
    "img_1_path = \"../media/sample_transition_image_1.jpg\"\n",
    "img_2_path = \"../media/sample_transition_image_2.jpg\"\n",
    "\n",
    "start_img_arr = read_image_in_array(img_1_path)\n",
    "end_img_arr = read_image_in_array(img_2_path)\n",
    "\n",
    "transition_video_fade_arr = create_transition_video(start_img_arr, end_img_arr, 50, \"fade\")\n",
    "write_array_to_video(transition_video_fade_arr, \"../media/output_transition_video_fade.mp4\")\n",
    "print(\"Created the fade transition video.\")\n",
    "transition_video_slide_arr = create_transition_video(start_img_arr, end_img_arr, 50, \"slide\")\n",
    "write_array_to_video(transition_video_slide_arr, \"../media/output_transition_video_slide.mp4\")\n",
    "print(\"Created the slide transition video.\")"
   ]
  }
 ],
 "metadata": {
  "kernelspec": {
   "display_name": "Python 3 (ipykernel)",
   "language": "python",
   "name": "python3"
  },
  "language_info": {
   "codemirror_mode": {
    "name": "ipython",
    "version": 3
   },
   "file_extension": ".py",
   "mimetype": "text/x-python",
   "name": "python",
   "nbconvert_exporter": "python",
   "pygments_lexer": "ipython3",
   "version": "3.12.2"
  }
 },
 "nbformat": 4,
 "nbformat_minor": 5
}
